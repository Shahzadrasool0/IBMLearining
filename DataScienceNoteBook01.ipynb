{
 "cells": [
  {
   "cell_type": "markdown",
   "id": "46e9a986",
   "metadata": {},
   "source": [
    "# H1:Data Science Tools and Ecosystem"
   ]
  },
  {
   "attachments": {},
   "cell_type": "markdown",
   "id": "aa5c1ff7",
   "metadata": {},
   "source": [
    "In this notebook, Data Science Tools and Ecosystem are summarized.\n"
   ]
  },
  {
   "cell_type": "markdown",
   "id": "bca4ab81",
   "metadata": {},
   "source": [
    "**Objectives:**\n",
    "* List popular languages for Data Science\n",
    "* commonly used libraries used by Data Scientists\n",
    "* commonly used tools and techniques used by Data Scientists"
   ]
  },
  {
   "cell_type": "markdown",
   "id": "4223d51a",
   "metadata": {},
   "source": [
    " Some of the popular languages that Data Scientists use are:\n",
    " 1. Python\n",
    " 2. Juliya\n",
    " 3. R\n",
    " 4. Java\n",
    " 5. SQL"
   ]
  },
  {
   "cell_type": "markdown",
   "id": "cd4abf65",
   "metadata": {},
   "source": [
    "Some of the commonly used libraries used by Data Scientists include:\n"
   ]
  },
  {
   "cell_type": "markdown",
   "id": "cb05e1eb",
   "metadata": {},
   "source": [
    "1. numpy\n",
    "2. panda\n",
    "3. cv2 \n",
    "4. mataplotlib\n"
   ]
  },
  {
   "cell_type": "markdown",
   "id": "9105c617",
   "metadata": {},
   "source": [
    "| Data Science Tools  |\n",
    "|----------|\n",
    "|Visual Studio |\n",
    "| Jupyter notebook | \n",
    "| Jupyter Lab | \n",
    "| IBM Studio|"
   ]
  },
  {
   "cell_type": "markdown",
   "id": "e5594f75",
   "metadata": {},
   "source": [
    "### Below are a few examples of evaluating arithmetic expressions in Python"
   ]
  },
  {
   "cell_type": "code",
   "execution_count": 17,
   "id": "fa9ef97f",
   "metadata": {},
   "outputs": [],
   "source": [
    "#This a simple arithmetic expression to mutiply then add integers"
   ]
  },
  {
   "cell_type": "code",
   "execution_count": 18,
   "id": "41a7d57d",
   "metadata": {},
   "outputs": [
    {
     "data": {
      "text/plain": [
       "17"
      ]
     },
     "execution_count": 18,
     "metadata": {},
     "output_type": "execute_result"
    }
   ],
   "source": [
    "(3*4)+5"
   ]
  },
  {
   "cell_type": "code",
   "execution_count": 19,
   "id": "99d98800",
   "metadata": {},
   "outputs": [
    {
     "name": "stdout",
     "output_type": "stream",
     "text": [
      "Hours= 3.3333333333333335\n"
     ]
    }
   ],
   "source": [
    "#This will convert 200 minutes to hours by diving by 60\n",
    "minuts=200\n",
    "hours=minuts/60\n",
    "print('Hours=',hours)"
   ]
  },
  {
   "cell_type": "markdown",
   "id": "af81bafa",
   "metadata": {},
   "source": [
    "# Author\n",
    "Shahzad Rasool"
   ]
  },
  {
   "cell_type": "code",
   "execution_count": null,
   "id": "c19c6d5b",
   "metadata": {},
   "outputs": [],
   "source": []
  },
  {
   "cell_type": "code",
   "execution_count": null,
   "id": "d35f2f96",
   "metadata": {},
   "outputs": [],
   "source": []
  }
 ],
 "metadata": {
  "kernelspec": {
   "display_name": "Python 3 (ipykernel)",
   "language": "python",
   "name": "python3"
  },
  "language_info": {
   "codemirror_mode": {
    "name": "ipython",
    "version": 3
   },
   "file_extension": ".py",
   "mimetype": "text/x-python",
   "name": "python",
   "nbconvert_exporter": "python",
   "pygments_lexer": "ipython3",
   "version": "3.11.4"
  }
 },
 "nbformat": 4,
 "nbformat_minor": 5
}
